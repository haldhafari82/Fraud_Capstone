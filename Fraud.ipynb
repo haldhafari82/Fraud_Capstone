{
 "cells": [
  {
   "cell_type": "code",
   "execution_count": 1,
   "id": "bfe6b330-e248-4cd6-8d23-b944a7acf875",
   "metadata": {},
   "outputs": [],
   "source": [
    "import pandas as pd\n",
    "df = pd.read_csv('C:/Working/AI/Fraudulent Transaction Data/data/Fraud.csv', sep = ',')"
   ]
  },
  {
   "cell_type": "code",
   "execution_count": 2,
   "id": "bffb9ab2-d278-40bb-aa3b-50b8657dfee4",
   "metadata": {},
   "outputs": [
    {
     "data": {
      "text/html": [
       "<div>\n",
       "<style scoped>\n",
       "    .dataframe tbody tr th:only-of-type {\n",
       "        vertical-align: middle;\n",
       "    }\n",
       "\n",
       "    .dataframe tbody tr th {\n",
       "        vertical-align: top;\n",
       "    }\n",
       "\n",
       "    .dataframe thead th {\n",
       "        text-align: right;\n",
       "    }\n",
       "</style>\n",
       "<table border=\"1\" class=\"dataframe\">\n",
       "  <thead>\n",
       "    <tr style=\"text-align: right;\">\n",
       "      <th></th>\n",
       "      <th>step</th>\n",
       "      <th>type</th>\n",
       "      <th>amount</th>\n",
       "      <th>nameOrig</th>\n",
       "      <th>oldbalanceOrg</th>\n",
       "      <th>newbalanceOrig</th>\n",
       "      <th>nameDest</th>\n",
       "      <th>oldbalanceDest</th>\n",
       "      <th>newbalanceDest</th>\n",
       "      <th>isFraud</th>\n",
       "      <th>isFlaggedFraud</th>\n",
       "    </tr>\n",
       "  </thead>\n",
       "  <tbody>\n",
       "    <tr>\n",
       "      <th>0</th>\n",
       "      <td>1</td>\n",
       "      <td>PAYMENT</td>\n",
       "      <td>9839.64</td>\n",
       "      <td>C1231006815</td>\n",
       "      <td>170136.0</td>\n",
       "      <td>160296.36</td>\n",
       "      <td>M1979787155</td>\n",
       "      <td>0.0</td>\n",
       "      <td>0.0</td>\n",
       "      <td>0</td>\n",
       "      <td>0</td>\n",
       "    </tr>\n",
       "    <tr>\n",
       "      <th>1</th>\n",
       "      <td>1</td>\n",
       "      <td>PAYMENT</td>\n",
       "      <td>1864.28</td>\n",
       "      <td>C1666544295</td>\n",
       "      <td>21249.0</td>\n",
       "      <td>19384.72</td>\n",
       "      <td>M2044282225</td>\n",
       "      <td>0.0</td>\n",
       "      <td>0.0</td>\n",
       "      <td>0</td>\n",
       "      <td>0</td>\n",
       "    </tr>\n",
       "    <tr>\n",
       "      <th>2</th>\n",
       "      <td>1</td>\n",
       "      <td>TRANSFER</td>\n",
       "      <td>181.00</td>\n",
       "      <td>C1305486145</td>\n",
       "      <td>181.0</td>\n",
       "      <td>0.00</td>\n",
       "      <td>C553264065</td>\n",
       "      <td>0.0</td>\n",
       "      <td>0.0</td>\n",
       "      <td>1</td>\n",
       "      <td>0</td>\n",
       "    </tr>\n",
       "    <tr>\n",
       "      <th>3</th>\n",
       "      <td>1</td>\n",
       "      <td>CASH_OUT</td>\n",
       "      <td>181.00</td>\n",
       "      <td>C840083671</td>\n",
       "      <td>181.0</td>\n",
       "      <td>0.00</td>\n",
       "      <td>C38997010</td>\n",
       "      <td>21182.0</td>\n",
       "      <td>0.0</td>\n",
       "      <td>1</td>\n",
       "      <td>0</td>\n",
       "    </tr>\n",
       "    <tr>\n",
       "      <th>4</th>\n",
       "      <td>1</td>\n",
       "      <td>PAYMENT</td>\n",
       "      <td>11668.14</td>\n",
       "      <td>C2048537720</td>\n",
       "      <td>41554.0</td>\n",
       "      <td>29885.86</td>\n",
       "      <td>M1230701703</td>\n",
       "      <td>0.0</td>\n",
       "      <td>0.0</td>\n",
       "      <td>0</td>\n",
       "      <td>0</td>\n",
       "    </tr>\n",
       "  </tbody>\n",
       "</table>\n",
       "</div>"
      ],
      "text/plain": [
       "   step      type    amount     nameOrig  oldbalanceOrg  newbalanceOrig  \\\n",
       "0     1   PAYMENT   9839.64  C1231006815       170136.0       160296.36   \n",
       "1     1   PAYMENT   1864.28  C1666544295        21249.0        19384.72   \n",
       "2     1  TRANSFER    181.00  C1305486145          181.0            0.00   \n",
       "3     1  CASH_OUT    181.00   C840083671          181.0            0.00   \n",
       "4     1   PAYMENT  11668.14  C2048537720        41554.0        29885.86   \n",
       "\n",
       "      nameDest  oldbalanceDest  newbalanceDest  isFraud  isFlaggedFraud  \n",
       "0  M1979787155             0.0             0.0        0               0  \n",
       "1  M2044282225             0.0             0.0        0               0  \n",
       "2   C553264065             0.0             0.0        1               0  \n",
       "3    C38997010         21182.0             0.0        1               0  \n",
       "4  M1230701703             0.0             0.0        0               0  "
      ]
     },
     "execution_count": 2,
     "metadata": {},
     "output_type": "execute_result"
    }
   ],
   "source": [
    "df.head()"
   ]
  },
  {
   "cell_type": "code",
   "execution_count": null,
   "id": "27a9dc2f-ca1c-48d4-a852-46c3bed26c60",
   "metadata": {},
   "outputs": [],
   "source": []
  },
  {
   "cell_type": "code",
   "execution_count": 6,
   "id": "ab97675c-15a1-4494-a39f-e9970b9520d3",
   "metadata": {},
   "outputs": [],
   "source": [
    "### Problem 3: Understanding the Features\n",
    "\n",
    "\n",
    "#step - maps a unit of time in the real world. In this case 1 step is 1 hour of time. Total steps 744 (30 days simulation).\n",
    "\n",
    "#type - CASH-IN, CASH-OUT, DEBIT, PAYMENT and TRANSFER.'\n",
    "\n",
    "#amount - amount of the transaction in local currency.'\n",
    "\n",
    "#nameOrig - customer who started the transaction'\n",
    "\n",
    "#oldbalanceOrg - initial balance before the transaction\n",
    "\n",
    "#newbalanceOrig - new balance after the transaction'\n",
    "\n",
    "#nameDest - customer who is the recipient of the transaction'\n",
    "\n",
    "#oldbalanceDest - initial balance recipient before the transaction. Note that there is not information for customers that start with M (Merchants).'\n",
    "\n",
    "#newbalanceDest - new balance recipient after the transaction. Note that there is not information for customers that start with M (Merchants).'\n",
    "\n",
    "#isFraud - This is the transactions made by the fraudulent agents inside the simulation. In this specific dataset the fraudulent behavior of the agents aims to profit by taking control or customers accounts and try to empty the funds by transferring to another account and then cashing out of the system.'\n",
    "\n",
    "#isFlaggedFraud - The business model aims to control massive transfers from one account to another and flags illegal attempts. An illegal attempt in this dataset is an attempt to transfer more than 200.000 in a single transaction.'\n",
    "\n",
    "#```"
   ]
  },
  {
   "cell_type": "code",
   "execution_count": null,
   "id": "da49903d-69ec-4b23-957a-a586a1276608",
   "metadata": {},
   "outputs": [],
   "source": []
  },
  {
   "cell_type": "code",
   "execution_count": 9,
   "id": "8b327255-b91f-4157-adf2-0f310f175797",
   "metadata": {},
   "outputs": [
    {
     "name": "stdout",
     "output_type": "stream",
     "text": [
      "<class 'pandas.core.frame.DataFrame'>\n",
      "RangeIndex: 6362620 entries, 0 to 6362619\n",
      "Data columns (total 11 columns):\n",
      " #   Column          Dtype  \n",
      "---  ------          -----  \n",
      " 0   step            int64  \n",
      " 1   type            object \n",
      " 2   amount          float64\n",
      " 3   nameOrig        object \n",
      " 4   oldbalanceOrg   float64\n",
      " 5   newbalanceOrig  float64\n",
      " 6   nameDest        object \n",
      " 7   oldbalanceDest  float64\n",
      " 8   newbalanceDest  float64\n",
      " 9   isFraud         int64  \n",
      " 10  isFlaggedFraud  int64  \n",
      "dtypes: float64(5), int64(3), object(3)\n",
      "memory usage: 534.0+ MB\n"
     ]
    }
   ],
   "source": [
    "df.info()"
   ]
  },
  {
   "cell_type": "code",
   "execution_count": null,
   "id": "4635a27e-21cc-4ed4-8e3d-5ac34be69220",
   "metadata": {},
   "outputs": [],
   "source": []
  },
  {
   "cell_type": "code",
   "execution_count": 12,
   "id": "b473fd1e-cc3b-4f97-8d21-e0e3e9dd1636",
   "metadata": {},
   "outputs": [
    {
     "data": {
      "image/png": "[encoded data removed]",
      "text/plain": [
       "<Figure size 640x480 with 1 Axes>"
      ]
     },
     "metadata": {},
     "output_type": "display_data"
    },
    {
     "data": {
      "image/png": "[encoded data removed]",
      "text/plain": [
       "<Figure size 640x480 with 1 Axes>"
      ]
     },
     "metadata": {},
     "output_type": "display_data"
    },
    {
     "data": {
      "image/png": "[encoded data removed]",
      "text/plain": [
       "<Figure size 640x480 with 1 Axes>"
      ]
     },
     "metadata": {},
     "output_type": "display_data"
    }
   ],
   "source": [
    "import matplotlib.pyplot as plt\n",
    "import seaborn as sns\n",
    "import pandas as pd\n",
    "\n",
    "feature_array = ['type','isFraud','isFlaggedFraud'];\n",
    "\n",
    "# Using a for loop\n",
    "for dim_name in feature_array:\n",
    "\n",
    "    sns.countplot(x=dim_name, data=df)\n",
    "\n",
    "    sns.set_style('darkgrid')\n",
    "\n",
    "    plt.grid(True)\n",
    "    plt.title(dim_name + ' counts')\n",
    "    plt.xlabel(dim_name)\n",
    "    plt.ylabel('Counts')\n",
    "    plt.xticks(rotation=90)\n",
    "    plt.savefig(\"C:/Working/AI/Fraudulent Transaction Data/images\" + dim_name + \"_bar.png\")\n",
    "    plt.show()"
   ]
  },
  {
   "cell_type": "code",
   "execution_count": 13,
   "id": "efd2c0f7-b789-44d0-a55e-d5877897ff4d",
   "metadata": {},
   "outputs": [
    {
     "name": "stdout",
     "output_type": "stream",
     "text": [
      "type\n",
      "CASH_IN     1399284\n",
      "CASH_OUT    2237500\n",
      "DEBIT         41432\n",
      "PAYMENT     2151495\n",
      "TRANSFER     532909\n",
      "Name: type, dtype: int64\n"
     ]
    }
   ],
   "source": [
    "print(df.groupby('type')['type'].count())"
   ]
  },
  {
   "cell_type": "code",
   "execution_count": null,
   "id": "0bab4eea-57c6-44f7-86e6-fb1141775cb2",
   "metadata": {},
   "outputs": [],
   "source": []
  },
  {
   "cell_type": "code",
   "execution_count": 15,
   "id": "a1cd50bb-8db0-4845-baaf-5738774839de",
   "metadata": {},
   "outputs": [
    {
     "name": "stdout",
     "output_type": "stream",
     "text": [
      "8213\n",
      "16\n"
     ]
    }
   ],
   "source": [
    "is_fraud = (df['isFraud'] > 0).sum()\n",
    "print(is_fraud)\n",
    "\n",
    "isFlaggedFraud = (df['isFlaggedFraud'] > 0).sum()\n",
    "print(isFlaggedFraud)"
   ]
  },
  {
   "cell_type": "code",
   "execution_count": 16,
   "id": "5aa4d1cb-c337-4ed9-bf97-dafb850f6f0b",
   "metadata": {},
   "outputs": [],
   "source": [
    "df = df.dropna()"
   ]
  },
  {
   "cell_type": "code",
   "execution_count": 17,
   "id": "85d408c7-11e7-482e-8c81-3e3b0b683c84",
   "metadata": {},
   "outputs": [
    {
     "name": "stdout",
     "output_type": "stream",
     "text": [
      "type\n",
      "CASH_IN     1399284\n",
      "CASH_OUT    2237500\n",
      "DEBIT         41432\n",
      "PAYMENT     2151495\n",
      "TRANSFER     532909\n",
      "Name: type, dtype: int64\n"
     ]
    }
   ],
   "source": [
    "print(df.groupby('type')['type'].count())"
   ]
  },
  {
   "cell_type": "code",
   "execution_count": 18,
   "id": "6546bbca-020e-411d-bf22-656fba9b3ffa",
   "metadata": {},
   "outputs": [
    {
     "name": "stdout",
     "output_type": "stream",
     "text": [
      "0.9987091795518198\n"
     ]
    }
   ],
   "source": [
    "baseline = df['isFraud'].value_counts(normalize = True)[0]\n",
    "print(baseline)"
   ]
  },
  {
   "cell_type": "code",
   "execution_count": null,
   "id": "90eaaba3-4735-4827-93b4-fbf0c6ab669d",
   "metadata": {},
   "outputs": [],
   "source": []
  },
  {
   "cell_type": "code",
   "execution_count": 27,
   "id": "51b65719-334d-41de-a56a-efb4a848936d",
   "metadata": {},
   "outputs": [],
   "source": [
    "# Will evaluate multiple classification models:"
   ]
  },
  {
   "cell_type": "code",
   "execution_count": null,
   "id": "1370ccc9-fffb-4907-b4e0-e7e786436b19",
   "metadata": {},
   "outputs": [],
   "source": []
  },
  {
   "cell_type": "code",
   "execution_count": 29,
   "id": "b200deb2-d0b4-4a98-8fad-2afc4fb6b345",
   "metadata": {},
   "outputs": [],
   "source": [
    "#1 Decision Tree"
   ]
  },
  {
   "cell_type": "code",
   "execution_count": 31,
   "id": "94b5997b-2a87-49d3-99d4-ea9011f65a61",
   "metadata": {},
   "outputs": [],
   "source": [
    "import pandas as pd\n",
    "import numpy as np\n",
    "import matplotlib.pyplot as plt\n",
    "import seaborn as sns\n",
    "\n",
    "from sklearn.tree import DecisionTreeClassifier, export_text\n",
    "from sklearn.model_selection import train_test_split\n",
    "\n",
    "from sklearn import set_config\n",
    "\n",
    "set_config(\"diagram\")"
   ]
  },
  {
   "cell_type": "code",
   "execution_count": 33,
   "id": "4cbe8be4-d265-496c-963f-41ed819c63b4",
   "metadata": {},
   "outputs": [],
   "source": [
    "X = df.select_dtypes(['float'])\n",
    "y = df.isFraud"
   ]
  },
  {
   "cell_type": "code",
   "execution_count": 35,
   "id": "55010585-f9d1-4a46-8652-859243dbe0ae",
   "metadata": {},
   "outputs": [
    {
     "name": "stdout",
     "output_type": "stream",
     "text": [
      "             amount  oldbalanceOrg  newbalanceOrig  oldbalanceDest  \\\n",
      "0           9839.64      170136.00       160296.36            0.00   \n",
      "1           1864.28       21249.00        19384.72            0.00   \n",
      "2            181.00         181.00            0.00            0.00   \n",
      "3            181.00         181.00            0.00        21182.00   \n",
      "4          11668.14       41554.00        29885.86            0.00   \n",
      "...             ...            ...             ...             ...   \n",
      "6362615   339682.13      339682.13            0.00            0.00   \n",
      "6362616  6311409.28     6311409.28            0.00            0.00   \n",
      "6362617  6311409.28     6311409.28            0.00        68488.84   \n",
      "6362618   850002.52      850002.52            0.00            0.00   \n",
      "6362619   850002.52      850002.52            0.00      6510099.11   \n",
      "\n",
      "         newbalanceDest  \n",
      "0                  0.00  \n",
      "1                  0.00  \n",
      "2                  0.00  \n",
      "3                  0.00  \n",
      "4                  0.00  \n",
      "...                 ...  \n",
      "6362615       339682.13  \n",
      "6362616            0.00  \n",
      "6362617      6379898.11  \n",
      "6362618            0.00  \n",
      "6362619      7360101.63  \n",
      "\n",
      "[6362620 rows x 5 columns]\n"
     ]
    }
   ],
   "source": [
    "print(X)"
   ]
  },
  {
   "cell_type": "code",
   "execution_count": 38,
   "id": "55897894-075b-4a22-bc9c-a1f5ea53d8ab",
   "metadata": {},
   "outputs": [],
   "source": [
    "#sns.pairplot(data = df, hue = 'isFraud')"
   ]
  },
  {
   "cell_type": "code",
   "execution_count": 41,
   "id": "10cd6f4b-d856-4474-8e23-f24e21f222ab",
   "metadata": {},
   "outputs": [
    {
     "name": "stdout",
     "output_type": "stream",
     "text": [
      "|--- amount <= 2040206.00\n",
      "|   |--- amount <= 0.00\n",
      "|   |   |--- class: 1\n",
      "|   |--- amount >  0.00\n",
      "|   |   |--- class: 0\n",
      "|--- amount >  2040206.00\n",
      "|   |--- oldbalanceOrg <= 1971892.81\n",
      "|   |   |--- class: 0\n",
      "|   |--- oldbalanceOrg >  1971892.81\n",
      "|   |   |--- class: 1\n",
      "\n",
      "0.9991069716563302\n"
     ]
    }
   ],
   "source": [
    "X5 = X[['amount', 'oldbalanceOrg', 'newbalanceOrig', 'oldbalanceDest', 'newbalanceDest']]\n",
    "\n",
    "dtree = DecisionTreeClassifier(max_depth = 2).fit(X5, y)\n",
    "tree2 = export_text(dtree, feature_names = list(X5.columns))\n",
    "\n",
    "print(tree2)\n",
    "\n",
    "acc_depth_5 = DecisionTreeClassifier(max_depth=5).fit(X5, y).score(X5, y)\n",
    "\n",
    "print (acc_depth_5)"
   ]
  },
  {
   "cell_type": "code",
   "execution_count": 66,
   "id": "4de575ea-952e-4566-82f2-9f361f872d82",
   "metadata": {},
   "outputs": [
    {
     "name": "stdout",
     "output_type": "stream",
     "text": [
      "Precision: 0.86\n",
      "Accuracy: 1.00\n"
     ]
    }
   ],
   "source": [
    "#Precision = True Positives / (True Positives + False Positives)\n",
    "from sklearn.model_selection import train_test_split\n",
    "from sklearn.metrics import precision_score\n",
    "from sklearn.metrics import accuracy_score\n",
    "\n",
    "X_train, X_test, y_train, y_test = train_test_split(X5, y, test_size=0.2, random_state=42)\n",
    "\n",
    "decision_tree = DecisionTreeClassifier(random_state=42)\n",
    "decision_tree.fit(X_train, y_train)\n",
    "y_pred = decision_tree.predict(X_test)\n",
    "\n",
    "accuracy = accuracy_score(y_test, y_pred)\n",
    "precision = precision_score(y_test, y_pred)\n",
    "\n",
    "print(f\"Precision: {precision:.2f}\")\n",
    "print(f\"Accuracy: {accuracy:.2f}\")\n",
    "\n"
   ]
  },
  {
   "cell_type": "code",
   "execution_count": null,
   "id": "ab060435-17f9-44f3-bed3-fa56e8df7c67",
   "metadata": {},
   "outputs": [],
   "source": []
  },
  {
   "cell_type": "code",
   "execution_count": 77,
   "id": "18b8dfc2-69c1-464a-83c7-dfa448eb91e8",
   "metadata": {},
   "outputs": [
    {
     "name": "stdout",
     "output_type": "stream",
     "text": [
      "Best parameters: {'criterion': 'entropy', 'max_depth': 7, 'min_samples_leaf': 4, 'min_samples_split': 2}\n",
      "Best cross-validation score: 0.9531\n"
     ]
    }
   ],
   "source": [
    "from sklearn.model_selection import GridSearchCV\n",
    "\n",
    "param_grid = {\n",
    "        'criterion': ['gini', 'entropy'],\n",
    "        'max_depth': [None, 3, 5, 7, 10],\n",
    "        'min_samples_split': [2, 5, 10],\n",
    "        'min_samples_leaf': [1, 2, 4]\n",
    "}\n",
    "\n",
    "grid_search = GridSearchCV(estimator=decision_tree, param_grid=param_grid, cv=5, scoring='precision', n_jobs=-1)\n",
    "grid_search.fit(X_train, y_train)\n",
    "\n",
    "print(f\"Best parameters: {grid_search.best_params_}\")\n",
    "print(f\"Best cross-validation score: {grid_search.best_score_:.4f}\")\n"
   ]
  },
  {
   "cell_type": "code",
   "execution_count": null,
   "id": "2b4fb81a-aa5d-41e3-909a-2eb9677cd14f",
   "metadata": {},
   "outputs": [],
   "source": []
  },
  {
   "cell_type": "code",
   "execution_count": null,
   "id": "eb1a8a06-b704-421d-9e05-c6e14f38e151",
   "metadata": {},
   "outputs": [],
   "source": [
    "# 2 KNN:"
   ]
  },
  {
   "cell_type": "code",
   "execution_count": 70,
   "id": "103bfaa1-0dba-41dc-b23c-8e85677eed34",
   "metadata": {},
   "outputs": [
    {
     "name": "stdout",
     "output_type": "stream",
     "text": [
      "Precision: 0.83\n",
      "Accuracy: 1.00\n"
     ]
    }
   ],
   "source": [
    "from sklearn.neighbors import KNeighborsClassifier\n",
    "from sklearn.preprocessing import StandardScaler, OneHotEncoder\n",
    "from sklearn.model_selection import train_test_split, GridSearchCV\n",
    "from sklearn.compose import make_column_transformer\n",
    "from sklearn.pipeline import Pipeline\n",
    "from sklearn import set_config\n",
    "\n",
    "pipeline = Pipeline([('scale', StandardScaler()), ('knn', KNeighborsClassifier())])\n",
    "pipeline.fit(X_train, y_train)\n",
    "preds = pipeline.predict(X_test)\n",
    "precision = precision_score(y_test, preds)\n",
    "accuracy = accuracy_score(y_test, preds)\n",
    "\n",
    "print(f\"Precision: {precision:.2f}\")\n",
    "print(f\"Accuracy: {accuracy:.2f}\")"
   ]
  },
  {
   "cell_type": "code",
   "execution_count": null,
   "id": "ab5eed3e-c006-4225-b610-b9e1c74c8b09",
   "metadata": {},
   "outputs": [],
   "source": []
  },
  {
   "cell_type": "code",
   "execution_count": 60,
   "id": "ecc8dccd-e212-4672-adfe-a1fdff09d2d8",
   "metadata": {},
   "outputs": [],
   "source": [
    "from sklearn.compose import make_column_selector, make_column_transformer\n",
    "from sklearn.preprocessing import OneHotEncoder, StandardScaler, PolynomialFeatures\n",
    "from sklearn.linear_model import LogisticRegression\n",
    "from sklearn.feature_selection import SelectFromModel\n",
    "from sklearn.pipeline import Pipeline\n",
    "from sklearn.model_selection import train_test_split, GridSearchCV\n",
    "from sklearn.metrics import ConfusionMatrixDisplay, RocCurveDisplay\n",
    "from sklearn.metrics import confusion_matrix, roc_curve, auc"
   ]
  },
  {
   "cell_type": "code",
   "execution_count": 71,
   "id": "222e8a16-f71c-4045-8d87-b12135ab921b",
   "metadata": {},
   "outputs": [
    {
     "name": "stdout",
     "output_type": "stream",
     "text": [
      "Precision: 0.92\n",
      "Accuracy: 1.00\n"
     ]
    }
   ],
   "source": [
    "# 3 Logistic Regression\n",
    "\n",
    "from sklearn.linear_model import LinearRegression\n",
    "selector = make_column_selector(dtype_include=object)\n",
    "extractor = SelectFromModel(LogisticRegression(penalty='l1', solver = 'liblinear' ,random_state = 42))\n",
    "transformer = make_column_transformer((OneHotEncoder(drop = 'first'), selector),\n",
    "                                     remainder = StandardScaler())\n",
    "\n",
    "lgr_pipe = Pipeline([('transformer', transformer),\n",
    "                    ('selector', extractor),\n",
    "                    ('lgr', LogisticRegression(random_state=42, max_iter = 1000))])\n",
    "\n",
    "lgr_pipe.fit(X_train, y_train)\n",
    "\n",
    "pipe_1_acc = lgr_pipe.score(X_test, y_test)\n",
    "lr_preds = lgr_pipe.predict(X_test)\n",
    "precision = precision_score(y_test, lr_preds)\n",
    "accuracy = accuracy_score(y_test, lr_preds)\n",
    "\n",
    "print(f\"Precision: {precision:.2f}\")\n",
    "print(f\"Accuracy: {accuracy:.2f}\")"
   ]
  },
  {
   "cell_type": "code",
   "execution_count": null,
   "id": "79d52c59-06e8-4b79-af9a-05731fc13599",
   "metadata": {},
   "outputs": [],
   "source": []
  },
  {
   "cell_type": "code",
   "execution_count": null,
   "id": "bce1b859-1c0f-4fac-ac3b-a18729d281ce",
   "metadata": {},
   "outputs": [],
   "source": []
  },
  {
   "cell_type": "code",
   "execution_count": null,
   "id": "14ac7889-7ad0-4e34-b2d5-01717cc294d7",
   "metadata": {},
   "outputs": [],
   "source": []
  }
 ],
 "metadata": {
  "kernelspec": {
   "display_name": "Python [conda env:base] *",
   "language": "python",
   "name": "conda-base-py"
  },
  "language_info": {
   "codemirror_mode": {
    "name": "ipython",
    "version": 3
   },
   "file_extension": ".py",
   "mimetype": "text/x-python",
   "name": "python",
   "nbconvert_exporter": "python",
   "pygments_lexer": "ipython3",
   "version": "3.12.7"
  }
 },
 "nbformat": 4,
 "nbformat_minor": 5
}
